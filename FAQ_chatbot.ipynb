{
 "cells": [
  {
   "cell_type": "markdown",
   "id": "9fdaf0eb-28d1-4fe9-8407-3684cf8bf705",
   "metadata": {},
   "source": [
    "### LLM 연결"
   ]
  },
  {
   "cell_type": "code",
   "execution_count": null,
   "id": "61eafbf4-4b96-475b-8b38-817c3452cbd7",
   "metadata": {},
   "outputs": [],
   "source": [
    "!pip install openai"
   ]
  },
  {
   "cell_type": "code",
   "execution_count": null,
   "id": "8afa440f-717e-4017-aaa9-8c852389ef23",
   "metadata": {},
   "outputs": [],
   "source": [
    "import os\n",
    "from openai import OpenAI\n",
    "\n",
    "client = OpenAI(api_key=os.environ[\"OPENAI_API_KEY\"])\n",
    "\n",
    "stream = client.chat.completions.create(\n",
    "    model=\"gpt-3.5-turbo\",\n",
    "    messages=[\n",
    "        {\n",
    "            \"role\": \"system\",\n",
    "            \"content\": \"You are a helpful assistant. You must answer in Korean.\",\n",
    "        },\n",
    "        {\n",
    "            \"role\": \"user\",\n",
    "            \"content\": \"대한민국의 수도는 어디인가요?\",\n",
    "        },\n",
    "    ],\n",
    "    stream=True,\n",
    ")\n",
    "for chunk in stream:\n",
    "    if chunk.choices[0].delta.content is not None:\n",
    "        print(chunk.choices[0].delta.content, end=\"\")"
   ]
  },
  {
   "cell_type": "markdown",
   "id": "de1076cf-d8fc-436c-8ba8-d9726472fa3f",
   "metadata": {},
   "source": [
    "### Vector DB 연결"
   ]
  },
  {
   "cell_type": "code",
   "execution_count": null,
   "id": "f51ff08e-7b95-4768-94a0-7f4e4a7c5652",
   "metadata": {},
   "outputs": [],
   "source": [
    "!pip install chromadb"
   ]
  },
  {
   "cell_type": "code",
   "execution_count": null,
   "id": "3700e835-41d7-443b-840f-c0478e7a51a2",
   "metadata": {},
   "outputs": [],
   "source": [
    "import chromadb\n",
    "\n",
    "chroma_client = chromadb.Client()\n",
    "\n",
    "question_collection = chroma_client.create_collection(name=\"question\")\n",
    "answer_collection = chroma_client.create_collection(name=\"answer\")\n",
    "\n",
    "# collection = chroma_client.create_collection(name=\"collection_name\")\n",
    "# chroma_client.delete_collection(name=\"collection_name\")"
   ]
  },
  {
   "cell_type": "markdown",
   "id": "2077b208-eb1a-4d4e-9d72-dc1ef03d5e11",
   "metadata": {},
   "source": [
    "### Knowledge base 전처리"
   ]
  },
  {
   "cell_type": "code",
   "execution_count": null,
   "id": "ab2d02a9-3436-4f79-94f4-cca908c6da55",
   "metadata": {},
   "outputs": [],
   "source": [
    "import pickle\n",
    "\n",
    "with open('final_result.pkl', 'rb') as file:\n",
    "    data = pickle.load(file)"
   ]
  },
  {
   "cell_type": "code",
   "execution_count": null,
   "id": "94b76ace-0216-4a01-b37e-b844dcee7dd0",
   "metadata": {},
   "outputs": [],
   "source": [
    "for key in data:\n",
    "    data[key] = data[key].split('\\n', 1)[0]"
   ]
  },
  {
   "cell_type": "code",
   "execution_count": null,
   "id": "d1036f68-3ad2-41f1-9263-d8cc036b8ad5",
   "metadata": {},
   "outputs": [],
   "source": [
    "import pandas as pd\n",
    "\n",
    "df = pd.DataFrame(columns=['question', 'answer'])\n",
    "\n",
    "for idx, key in enumerate(data):\n",
    "    df.loc[idx] = [key, data[key]]"
   ]
  },
  {
   "cell_type": "markdown",
   "id": "b4c02907-5f90-4f3b-b169-734447a1c205",
   "metadata": {},
   "source": [
    "### Knowledge base embedding"
   ]
  },
  {
   "cell_type": "code",
   "execution_count": null,
   "id": "09dff0da-3622-4440-b196-0316dd538330",
   "metadata": {},
   "outputs": [],
   "source": [
    "from tqdm import tqdm\n",
    "\n",
    "def get_embedding(text, model=\"text-embedding-3-small\"):\n",
    "    response = client.embeddings.create(\n",
    "        input=[text],\n",
    "        model=model\n",
    "    )\n",
    "    return response.data[0].embedding\n",
    "\n",
    "for idx, row in tqdm(df.iterrows(), total=df.shape[0]):\n",
    "    question_embedding = get_embedding(row[\"question\"])\n",
    "    answer_embedding = get_embedding(row[\"answer\"])\n",
    "    \n",
    "    question_collection.add(ids=[str(idx)], embeddings=[question_embedding])\n",
    "    answer_collection.add(ids=[str(idx)], embeddings=[answer_embedding])"
   ]
  },
  {
   "cell_type": "markdown",
   "id": "8939449a-d766-432f-a3cb-662ff16ee82d",
   "metadata": {},
   "source": [
    "### User Question embedding"
   ]
  },
  {
   "cell_type": "markdown",
   "id": "f127aa4f-3005-4f19-9bd5-e05ea40ba573",
   "metadata": {},
   "source": [
    "### Similarity Search"
   ]
  },
  {
   "cell_type": "markdown",
   "id": "81ce61ba-17b4-4f19-af82-5c1f609c46be",
   "metadata": {},
   "source": [
    "### Prompt 작성"
   ]
  },
  {
   "cell_type": "code",
   "execution_count": null,
   "id": "df990966-51a4-4105-abe9-b80b71115940",
   "metadata": {},
   "outputs": [],
   "source": [
    "prompt_template = \"\"\"\n",
    "    You are a helpful Assistant who answers to users questions based on multiple contexts given to you.\n",
    "\n",
    "    Keep your answer short and to the point.\n",
    "    \n",
    "    The evidence are the context of the pdf extract with metadata. \n",
    "    \n",
    "    Carefully focus on the metadata specially 'filename' and 'page' whenever answering.\n",
    "    \n",
    "    Make sure to add filename and page number at the end of sentence you are citing to.\n",
    "        \n",
    "    Reply \"Not applicable\" if text is irrelevant.\n",
    "     \n",
    "    The PDF content is:\n",
    "    {pdf_extract}\n",
    "\"\"\""
   ]
  },
  {
   "cell_type": "markdown",
   "id": "48eb1063-a83d-42c2-b1a2-7fe73d2d8607",
   "metadata": {},
   "source": [
    "### LLM Answer 받기"
   ]
  },
  {
   "cell_type": "code",
   "execution_count": null,
   "id": "9b9c4b70-8e91-470a-a532-a1163e026ca3",
   "metadata": {},
   "outputs": [],
   "source": []
  }
 ],
 "metadata": {
  "kernelspec": {
   "display_name": "Python 3 (ipykernel)",
   "language": "python",
   "name": "python3"
  },
  "language_info": {
   "codemirror_mode": {
    "name": "ipython",
    "version": 3
   },
   "file_extension": ".py",
   "mimetype": "text/x-python",
   "name": "python",
   "nbconvert_exporter": "python",
   "pygments_lexer": "ipython3",
   "version": "3.11.5"
  }
 },
 "nbformat": 4,
 "nbformat_minor": 5
}
